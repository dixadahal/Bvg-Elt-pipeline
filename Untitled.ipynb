{
 "cells": [
  {
   "cell_type": "code",
   "execution_count": 45,
   "id": "8f865d40-1052-4583-af5a-14ec0b40d790",
   "metadata": {},
   "outputs": [],
   "source": [
    "import pandas as pd\n",
    "#from sqlalchemy import create_engine\n",
    "import matplotlib.pyplot as plt\n"
   ]
  },
  {
   "cell_type": "code",
   "execution_count": 47,
   "id": "22209120-e543-4b8d-a7e2-45092196cd6c",
   "metadata": {},
   "outputs": [
    {
     "data": {
      "text/html": [
       "<div>\n",
       "<style scoped>\n",
       "    .dataframe tbody tr th:only-of-type {\n",
       "        vertical-align: middle;\n",
       "    }\n",
       "\n",
       "    .dataframe tbody tr th {\n",
       "        vertical-align: top;\n",
       "    }\n",
       "\n",
       "    .dataframe thead th {\n",
       "        text-align: right;\n",
       "    }\n",
       "</style>\n",
       "<table border=\"1\" class=\"dataframe\">\n",
       "  <thead>\n",
       "    <tr style=\"text-align: right;\">\n",
       "      <th></th>\n",
       "      <th>stop_id</th>\n",
       "      <th>stop_name</th>\n",
       "      <th>stop_lat</th>\n",
       "      <th>stop_lon</th>\n",
       "    </tr>\n",
       "  </thead>\n",
       "  <tbody>\n",
       "    <tr>\n",
       "      <th>0</th>\n",
       "      <td>101</td>\n",
       "      <td>Van Cortlandt Park-242 St</td>\n",
       "      <td>40.889248</td>\n",
       "      <td>-73.898583</td>\n",
       "    </tr>\n",
       "    <tr>\n",
       "      <th>1</th>\n",
       "      <td>101N</td>\n",
       "      <td>Van Cortlandt Park-242 St</td>\n",
       "      <td>40.889248</td>\n",
       "      <td>-73.898583</td>\n",
       "    </tr>\n",
       "    <tr>\n",
       "      <th>2</th>\n",
       "      <td>101S</td>\n",
       "      <td>Van Cortlandt Park-242 St</td>\n",
       "      <td>40.889248</td>\n",
       "      <td>-73.898583</td>\n",
       "    </tr>\n",
       "    <tr>\n",
       "      <th>3</th>\n",
       "      <td>103</td>\n",
       "      <td>238 St</td>\n",
       "      <td>40.884667</td>\n",
       "      <td>-73.900870</td>\n",
       "    </tr>\n",
       "    <tr>\n",
       "      <th>4</th>\n",
       "      <td>103N</td>\n",
       "      <td>238 St</td>\n",
       "      <td>40.884667</td>\n",
       "      <td>-73.900870</td>\n",
       "    </tr>\n",
       "  </tbody>\n",
       "</table>\n",
       "</div>"
      ],
      "text/plain": [
       "  stop_id                  stop_name   stop_lat   stop_lon\n",
       "0     101  Van Cortlandt Park-242 St  40.889248 -73.898583\n",
       "1    101N  Van Cortlandt Park-242 St  40.889248 -73.898583\n",
       "2    101S  Van Cortlandt Park-242 St  40.889248 -73.898583\n",
       "3     103                     238 St  40.884667 -73.900870\n",
       "4    103N                     238 St  40.884667 -73.900870"
      ]
     },
     "execution_count": 47,
     "metadata": {},
     "output_type": "execute_result"
    }
   ],
   "source": [
    "df = pd.read_csv('data_lake/landing/stops.txt')\n",
    "df = df[['stop_id', 'stop_name', 'stop_lat', 'stop_lon']]\n",
    "df.head()\n"
   ]
  },
  {
   "cell_type": "code",
   "execution_count": 49,
   "id": "194d1724-ed7d-4f78-a46d-49091bd9405c",
   "metadata": {},
   "outputs": [
    {
     "name": "stdout",
     "output_type": "stream",
     "text": [
      "Dataset shape: (1497, 4)\n",
      "\n",
      "Columns:\n",
      " Index(['stop_id', 'stop_name', 'stop_lat', 'stop_lon'], dtype='object')\n",
      "\n",
      "Sample data:\n"
     ]
    },
    {
     "data": {
      "text/html": [
       "<div>\n",
       "<style scoped>\n",
       "    .dataframe tbody tr th:only-of-type {\n",
       "        vertical-align: middle;\n",
       "    }\n",
       "\n",
       "    .dataframe tbody tr th {\n",
       "        vertical-align: top;\n",
       "    }\n",
       "\n",
       "    .dataframe thead th {\n",
       "        text-align: right;\n",
       "    }\n",
       "</style>\n",
       "<table border=\"1\" class=\"dataframe\">\n",
       "  <thead>\n",
       "    <tr style=\"text-align: right;\">\n",
       "      <th></th>\n",
       "      <th>stop_id</th>\n",
       "      <th>stop_name</th>\n",
       "      <th>stop_lat</th>\n",
       "      <th>stop_lon</th>\n",
       "    </tr>\n",
       "  </thead>\n",
       "  <tbody>\n",
       "    <tr>\n",
       "      <th>0</th>\n",
       "      <td>101</td>\n",
       "      <td>Van Cortlandt Park-242 St</td>\n",
       "      <td>40.889248</td>\n",
       "      <td>-73.898583</td>\n",
       "    </tr>\n",
       "    <tr>\n",
       "      <th>1</th>\n",
       "      <td>101N</td>\n",
       "      <td>Van Cortlandt Park-242 St</td>\n",
       "      <td>40.889248</td>\n",
       "      <td>-73.898583</td>\n",
       "    </tr>\n",
       "    <tr>\n",
       "      <th>2</th>\n",
       "      <td>101S</td>\n",
       "      <td>Van Cortlandt Park-242 St</td>\n",
       "      <td>40.889248</td>\n",
       "      <td>-73.898583</td>\n",
       "    </tr>\n",
       "    <tr>\n",
       "      <th>3</th>\n",
       "      <td>103</td>\n",
       "      <td>238 St</td>\n",
       "      <td>40.884667</td>\n",
       "      <td>-73.900870</td>\n",
       "    </tr>\n",
       "    <tr>\n",
       "      <th>4</th>\n",
       "      <td>103N</td>\n",
       "      <td>238 St</td>\n",
       "      <td>40.884667</td>\n",
       "      <td>-73.900870</td>\n",
       "    </tr>\n",
       "  </tbody>\n",
       "</table>\n",
       "</div>"
      ],
      "text/plain": [
       "  stop_id                  stop_name   stop_lat   stop_lon\n",
       "0     101  Van Cortlandt Park-242 St  40.889248 -73.898583\n",
       "1    101N  Van Cortlandt Park-242 St  40.889248 -73.898583\n",
       "2    101S  Van Cortlandt Park-242 St  40.889248 -73.898583\n",
       "3     103                     238 St  40.884667 -73.900870\n",
       "4    103N                     238 St  40.884667 -73.900870"
      ]
     },
     "metadata": {},
     "output_type": "display_data"
    },
    {
     "name": "stdout",
     "output_type": "stream",
     "text": [
      "\n",
      "Summary statistics:\n"
     ]
    },
    {
     "data": {
      "text/html": [
       "<div>\n",
       "<style scoped>\n",
       "    .dataframe tbody tr th:only-of-type {\n",
       "        vertical-align: middle;\n",
       "    }\n",
       "\n",
       "    .dataframe tbody tr th {\n",
       "        vertical-align: top;\n",
       "    }\n",
       "\n",
       "    .dataframe thead th {\n",
       "        text-align: right;\n",
       "    }\n",
       "</style>\n",
       "<table border=\"1\" class=\"dataframe\">\n",
       "  <thead>\n",
       "    <tr style=\"text-align: right;\">\n",
       "      <th></th>\n",
       "      <th>stop_lat</th>\n",
       "      <th>stop_lon</th>\n",
       "    </tr>\n",
       "  </thead>\n",
       "  <tbody>\n",
       "    <tr>\n",
       "      <th>count</th>\n",
       "      <td>1497.000000</td>\n",
       "      <td>1497.000000</td>\n",
       "    </tr>\n",
       "    <tr>\n",
       "      <th>mean</th>\n",
       "      <td>40.722632</td>\n",
       "      <td>-73.945889</td>\n",
       "    </tr>\n",
       "    <tr>\n",
       "      <th>std</th>\n",
       "      <td>0.082563</td>\n",
       "      <td>0.069887</td>\n",
       "    </tr>\n",
       "    <tr>\n",
       "      <th>min</th>\n",
       "      <td>40.512764</td>\n",
       "      <td>-74.251961</td>\n",
       "    </tr>\n",
       "    <tr>\n",
       "      <th>25%</th>\n",
       "      <td>40.670847</td>\n",
       "      <td>-73.987342</td>\n",
       "    </tr>\n",
       "    <tr>\n",
       "      <th>50%</th>\n",
       "      <td>40.714441</td>\n",
       "      <td>-73.951070</td>\n",
       "    </tr>\n",
       "    <tr>\n",
       "      <th>75%</th>\n",
       "      <td>40.773440</td>\n",
       "      <td>-73.903077</td>\n",
       "    </tr>\n",
       "    <tr>\n",
       "      <th>max</th>\n",
       "      <td>40.903125</td>\n",
       "      <td>-73.755405</td>\n",
       "    </tr>\n",
       "  </tbody>\n",
       "</table>\n",
       "</div>"
      ],
      "text/plain": [
       "          stop_lat     stop_lon\n",
       "count  1497.000000  1497.000000\n",
       "mean     40.722632   -73.945889\n",
       "std       0.082563     0.069887\n",
       "min      40.512764   -74.251961\n",
       "25%      40.670847   -73.987342\n",
       "50%      40.714441   -73.951070\n",
       "75%      40.773440   -73.903077\n",
       "max      40.903125   -73.755405"
      ]
     },
     "metadata": {},
     "output_type": "display_data"
    },
    {
     "name": "stdout",
     "output_type": "stream",
     "text": [
      "\n",
      "Missing values per column:\n",
      "stop_id      0\n",
      "stop_name    0\n",
      "stop_lat     0\n",
      "stop_lon     0\n",
      "dtype: int64\n"
     ]
    },
    {
     "data": {
      "image/png": "[encoded data removed]",
      "text/plain": [
       "<Figure size 1000x600 with 1 Axes>"
      ]
     },
     "metadata": {},
     "output_type": "display_data"
    }
   ],
   "source": [
    "# Basic info\n",
    "print(\"Dataset shape:\", df.shape)\n",
    "print(\"\\nColumns:\\n\", df.columns)\n",
    "\n",
    "# Show first 5 rows\n",
    "print(\"\\nSample data:\")\n",
    "display(df.head())\n",
    "\n",
    "# Summary statistics for numeric columns\n",
    "print(\"\\nSummary statistics:\")\n",
    "display(df.describe())\n",
    "\n",
    "#  Check for missing values\n",
    "print(\"\\nMissing values per column:\")\n",
    "print(df.isnull().sum())\n",
    "\n",
    "#  Visualize stop locations (lat/lon scatter plot)\n",
    "plt.figure(figsize=(10,6))\n",
    "plt.scatter(df['stop_lon'], df['stop_lat'], alpha=0.5)\n",
    "plt.title('Stop Locations')\n",
    "plt.xlabel('Longitude')\n",
    "plt.ylabel('Latitude')\n",
    "plt.grid(True)\n",
    "plt.show()\n",
    "\n",
    "\n",
    "\n"
   ]
  },
  {
   "cell_type": "code",
   "execution_count": null,
   "id": "c3869875-ac2e-49dc-a09e-69a8b60c20ad",
   "metadata": {},
   "outputs": [],
   "source": []
  },
  {
   "cell_type": "code",
   "execution_count": null,
   "id": "c709b041-5a4c-4c5d-b6f7-6fe6f2f76585",
   "metadata": {},
   "outputs": [],
   "source": []
  },
  {
   "cell_type": "code",
   "execution_count": null,
   "id": "d70e890f-28d3-4231-81b4-b27a9bf33003",
   "metadata": {},
   "outputs": [],
   "source": []
  },
  {
   "cell_type": "code",
   "execution_count": null,
   "id": "6c890a7e-61d8-45e7-a763-b4860fa7a16b",
   "metadata": {},
   "outputs": [],
   "source": []
  },
  {
   "cell_type": "code",
   "execution_count": null,
   "id": "d3303eae-614f-476e-a47b-192973e3830a",
   "metadata": {},
   "outputs": [],
   "source": []
  },
  {
   "cell_type": "code",
   "execution_count": null,
   "id": "b238d712-fed2-4414-b0dd-df963a478137",
   "metadata": {},
   "outputs": [],
   "source": []
  },
  {
   "cell_type": "code",
   "execution_count": null,
   "id": "fb126490-b297-4ca0-8711-d3b50765444d",
   "metadata": {},
   "outputs": [],
   "source": []
  },
  {
   "cell_type": "code",
   "execution_count": null,
   "id": "a03473d0-696a-4fd8-9c2e-6f07c6ea6a8d",
   "metadata": {},
   "outputs": [],
   "source": []
  },
  {
   "cell_type": "code",
   "execution_count": null,
   "id": "7c88ebf0-b750-4096-8fb0-7ebb184dab72",
   "metadata": {},
   "outputs": [],
   "source": []
  },
  {
   "cell_type": "code",
   "execution_count": null,
   "id": "f31b9ce1-6366-49d1-aa13-58fa96b024ed",
   "metadata": {},
   "outputs": [],
   "source": []
  },
  {
   "cell_type": "code",
   "execution_count": null,
   "id": "1e3dcca0-a619-4ddf-8eac-4d17293379cf",
   "metadata": {},
   "outputs": [],
   "source": []
  },
  {
   "cell_type": "code",
   "execution_count": null,
   "id": "9a6f40db-53a4-47ae-acda-bfb06c4ac531",
   "metadata": {},
   "outputs": [],
   "source": []
  },
  {
   "cell_type": "code",
   "execution_count": null,
   "id": "aa0560c1-08ba-4453-a832-10def40c214f",
   "metadata": {},
   "outputs": [],
   "source": []
  },
  {
   "cell_type": "code",
   "execution_count": null,
   "id": "0cd0ba1c-40bb-4580-b529-84c0f56ed057",
   "metadata": {},
   "outputs": [],
   "source": []
  },
  {
   "cell_type": "code",
   "execution_count": null,
   "id": "bb91c0c7-7579-4917-b913-2a8f36528af0",
   "metadata": {},
   "outputs": [],
   "source": []
  },
  {
   "cell_type": "code",
   "execution_count": null,
   "id": "9f009740-d3e3-404a-ba39-cbcc4b8091a9",
   "metadata": {},
   "outputs": [],
   "source": []
  },
  {
   "cell_type": "code",
   "execution_count": null,
   "id": "207abd4b-1bba-4aee-90e8-d26cec5ccc84",
   "metadata": {},
   "outputs": [],
   "source": []
  },
  {
   "cell_type": "code",
   "execution_count": 30,
   "id": "a7af9b0c-6e37-494f-995f-f86834f149c4",
   "metadata": {},
   "outputs": [
    {
     "name": "stdout",
     "output_type": "stream",
     "text": [
      "✅ Loaded stops into PostgreSQL.\n",
      "  stop_id                  stop_name   stop_lat   stop_lon\n",
      "0     101  Van Cortlandt Park-242 St  40.889248 -73.898583\n",
      "1    101N  Van Cortlandt Park-242 St  40.889248 -73.898583\n",
      "2    101S  Van Cortlandt Park-242 St  40.889248 -73.898583\n",
      "3     103                     238 St  40.884667 -73.900870\n",
      "4    103N                     238 St  40.884667 -73.900870\n",
      "5    103S                     238 St  40.884667 -73.900870\n",
      "6     104                     231 St  40.878856 -73.904834\n",
      "7    104N                     231 St  40.878856 -73.904834\n",
      "8    104S                     231 St  40.878856 -73.904834\n",
      "9     106         Marble Hill-225 St  40.874561 -73.909831\n"
     ]
    }
   ],
   "source": [
    "# 4. Load into PostgreSQL\n",
    "\n",
    "PG_USER = 'airflow'        # from your docker-compose\n",
    "PG_PASSWORD = 'airflow'    # from your docker-compose\n",
    "PG_HOST = 'localhost'      # localhost because port 5432 is mapped to your host\n",
    "PG_PORT = '5432'\n",
    "PG_DB = 'airflow'          # database name from docker-compose\n",
    "\n",
    "from sqlalchemy import create_engine\n",
    "\n",
    "engine = create_engine(f'postgresql://{PG_USER}:{PG_PASSWORD}@{PG_HOST}:{PG_PORT}/{PG_DB}')\n",
    "\n",
    "# Load DataFrame df into PostgreSQL (replace if table already exists)\n",
    "df.to_sql('stops', engine, if_exists='replace', index=False)\n",
    "\n",
    "print(\"✅ Loaded stops into PostgreSQL.\")\n",
    "\n",
    "# 5. Query from PostgreSQL\n",
    "\n",
    "import pandas as pd\n",
    "\n",
    "stops_pg = pd.read_sql('SELECT * FROM stops LIMIT 10', engine)\n",
    "print(stops_pg)\n"
   ]
  },
  {
   "cell_type": "code",
   "execution_count": 34,
   "id": "4325433a-1b4e-4fc5-b28d-9dea4c3110bb",
   "metadata": {},
   "outputs": [
    {
     "name": "stdout",
     "output_type": "stream",
     "text": [
      "  stop_id                  stop_name   stop_lat   stop_lon\n",
      "0     101  Van Cortlandt Park-242 St  40.889248 -73.898583\n",
      "1    101N  Van Cortlandt Park-242 St  40.889248 -73.898583\n",
      "2    101S  Van Cortlandt Park-242 St  40.889248 -73.898583\n",
      "3     103                     238 St  40.884667 -73.900870\n",
      "4    103N                     238 St  40.884667 -73.900870\n",
      "5    103S                     238 St  40.884667 -73.900870\n",
      "6     104                     231 St  40.878856 -73.904834\n",
      "7    104N                     231 St  40.878856 -73.904834\n",
      "8    104S                     231 St  40.878856 -73.904834\n",
      "9     106         Marble Hill-225 St  40.874561 -73.909831\n"
     ]
    }
   ],
   "source": [
    "query = \"SELECT * FROM stops LIMIT 10;\"\n",
    "with engine.connect() as conn:\n",
    "    stops_sample = pd.read_sql(query, conn)\n",
    "\n",
    "print(stops_sample)\n"
   ]
  },
  {
   "cell_type": "code",
   "execution_count": null,
   "id": "6695e381-176f-4d71-aa83-606c66df0edc",
   "metadata": {},
   "outputs": [],
   "source": []
  }
 ],
 "metadata": {
  "kernelspec": {
   "display_name": "Python 3 (ipykernel)",
   "language": "python",
   "name": "python3"
  },
  "language_info": {
   "codemirror_mode": {
    "name": "ipython",
    "version": 3
   },
   "file_extension": ".py",
   "mimetype": "text/x-python",
   "name": "python",
   "nbconvert_exporter": "python",
   "pygments_lexer": "ipython3",
   "version": "3.12.4"
  }
 },
 "nbformat": 4,
 "nbformat_minor": 5
}
